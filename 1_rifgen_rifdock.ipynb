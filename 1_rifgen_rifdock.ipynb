{
 "cells": [
  {
   "cell_type": "markdown",
   "metadata": {
    "tags": []
   },
   "source": [
    "# This notebook contains the pipeline for docking proteins onto DNA targets"
   ]
  },
  {
   "cell_type": "markdown",
   "metadata": {
    "tags": []
   },
   "source": [
    "This notebook will take you through the first stage of designing DNA-binding proteins. <br>\n",
    "The goal here is to create models that have protein backbones docked in reasonable positions onto DNA targets of interest. <br>\n",
    "The two major steps of this process are Rifgen and Rifdock. <br>\n",
    "More details about how these programs work and what we have to do to run them is present throughout the notebook. <br> <br>"
   ]
  },
  {
   "cell_type": "markdown",
   "metadata": {
    "tags": []
   },
   "source": [
    "## Step 0: Imports and variable initialization (MUST RUN EVERY TIME)"
   ]
  },
  {
   "cell_type": "markdown",
   "metadata": {
    "tags": []
   },
   "source": [
    "### Imports"
   ]
  },
  {
   "cell_type": "code",
   "execution_count": 2,
   "metadata": {},
   "outputs": [
    {
     "name": "stdout",
     "output_type": "stream",
     "text": [
      "Imported required utilities\n"
     ]
    }
   ],
   "source": [
    "### DOCK-00\n",
    "\n",
    "###########################\n",
    "#### GENERAL UTILITIES ####\n",
    "###########################\n",
    "# sys is a common utility used to interface with the system, similar to running commands directly on the bash command line\n",
    "import sys, os, time, glob, random, shutil, subprocess, math, re\n",
    "from subprocess import Popen, PIPE\n",
    "import numpy as np\n",
    "import pandas as pd\n",
    "\n",
    "# silent_tools is a custom-built library used for handling silent files, which can store many structures in a single compressed file\n",
    "sys.path.append('../software/silent_tools/') # This is the path your silent_tools installation.\n",
    "import silent_tools\n",
    "\n",
    "# This is just to ignore some warnings that we don't care about\n",
    "import warnings\n",
    "warnings.filterwarnings('ignore')\n",
    "\n",
    "print('Imported required utilities')\n",
    "#######################################\n",
    "#######################################"
   ]
  },
  {
   "cell_type": "code",
   "execution_count": 6,
   "metadata": {},
   "outputs": [
    {
     "name": "stdout",
     "output_type": "stream",
     "text": [
      "Set paths to Rosetta\n",
      "Created working directory in scratch space for rifdock: ./rifdock_output/\n"
     ]
    }
   ],
   "source": [
    "### DOCK-01\n",
    "\n",
    "# This is the path to the version of Rosetta to use. For now, we are just using the latest version\n",
    "rosetta_db = '/software/rosetta/latest/database' # change this to your rosetta installation\n",
    "rosetta_scripts = '/software/rosetta/latest/bin/rosetta_scripts.hdf5.linuxgccrelease' # change this to your rosetta installation\n",
    "print('Set paths to Rosetta')\n",
    "\n",
    "\n",
    "#######################################################################################\n",
    "#### USER INPUT : Update this with some identifier for your binder design campaign ####\n",
    "#######################################################################################\n",
    "ID = 'ID'\n",
    "#######################################################################################\n",
    "################################### END USER INPUT ####################################\n",
    "#######################################################################################\n",
    "\n",
    "\n",
    "# This defines the path to your working directory for rifdock. Everything will go in here\n",
    "rifdock_path = f'./rifdock_output/' \n",
    "#              ^              ^^^^^^             ^^^^\n",
    "# Now we create the directory we need, as well as any other directories above it in the path\n",
    "os.makedirs(rifdock_path, exist_ok=True)\n",
    "print(f'Created working directory in scratch space for rifdock: {rifdock_path}')"
   ]
  },
  {
   "cell_type": "markdown",
   "metadata": {
    "jp-MarkdownHeadingCollapsed": true,
    "tags": []
   },
   "source": [
    "### Collect DNA binder scaffolds"
   ]
  },
  {
   "cell_type": "markdown",
   "metadata": {},
   "source": [
    "When we design DNA-binding proteins, we start with a large set of protein \"scaffolds\", which are well-folded proteins of a desirable shape for binding DNA. <br>\n",
    "The mentors have already created many scaffolds, so you don't need to worry about that step. This cell will just collect a list of those pre-existing scaffolds. <br>\n",
    "If you're interested in how we made these scaffolds, reach out on Mattermost!"
   ]
  },
  {
   "cell_type": "code",
   "execution_count": 6,
   "metadata": {},
   "outputs": [
    {
     "name": "stdout",
     "output_type": "stream",
     "text": [
      "Docking with 26216 scaffolds, listed in /net/scratch/cjg263/de_novo_dna/HBVa_HSB-2/rifdock/scaffolds.list\n"
     ]
    }
   ],
   "source": [
    "### DOCK-02\n",
    "\n",
    "############################################################################\n",
    "##### UPDATE this second path with the path to your scaffolds #####\n",
    "############################################################################\n",
    "master_scaffold_list = glob.glob('scaffold_pdbs/*pdb')\n",
    "############################################################################\n",
    "\n",
    "scaffold_list = 'scaffolds.list'\n",
    "with open(scaffold_list,'r') as f:\n",
    "    for pdb in master_scaffold_list:\n",
    "        f.write(pdb+'/n')\n",
    "\n",
    "# Finally, print our count to the screen to see how many we have. It should be 26216, as of SEP22.\n",
    "print(f'Docking with {n_scaffolds} scaffolds, listed in {scaffold_list}')"
   ]
  },
  {
   "cell_type": "markdown",
   "metadata": {
    "jp-MarkdownHeadingCollapsed": true,
    "tags": []
   },
   "source": [
    "### Define target sequences:\n"
   ]
  },
  {
   "cell_type": "code",
   "execution_count": 4,
   "metadata": {},
   "outputs": [],
   "source": [
    "### DOCK-03\n",
    "\n",
    "# This notebook is set up to be able to dock proteins onto multiple DNA targets at the same time.\n",
    "# Here you will need to fill your full sequence in. \n",
    "\n",
    "########################################\n",
    "#### Fill in your assigned sequence ####\n",
    "########################################\n",
    "seqs = ['CGCACCGACTCACG']\n",
    "########################################\n",
    "########################################"
   ]
  },
  {
   "cell_type": "code",
   "execution_count": 5,
   "metadata": {},
   "outputs": [
    {
     "name": "stdout",
     "output_type": "stream",
     "text": [
      "----------------------------------------\n",
      "Forward sequence:\t ['CGCACCGACTCACG']\n",
      "Reverse sequence:\t ['CGTGAGTCGGTGCG']\n"
     ]
    }
   ],
   "source": [
    "### DOCK-04\n",
    "\n",
    "# DNA, as you know, forms a double helix -- but you only input the sequence for one strand!\n",
    "# This cell will automatically compute the reverse complement sequence, based on Watson-Crick base pairing rules\n",
    "# You'll never need to painfully write out the reverse sequence again!\n",
    "\n",
    "# This dictionary is an easy way to map out the complementary base to each input\n",
    "pairings = {'G':'C', 'A':'T', 'C':'G', 'T':'A'}\n",
    "\n",
    "# We're going to make another dictionary with the same key(s), but now for the reverse complementary sequence(s)\n",
    "# First, we initialize an empty list\n",
    "seqs_revcomp = []\n",
    "for seq in seqs:\n",
    "    \n",
    "    # Then, we build up the new sequence:\n",
    "    # We work forward through the original sequence, and\n",
    "    # at each step we add the complementary base to the *beginning* of the new sequence\n",
    "    # note that strings can be concatenated in python just using the \"+\" operator\n",
    "    new_seq = ''\n",
    "    for base in seq:\n",
    "        new_seq = pairings[base] + new_seq\n",
    "    \n",
    "    # Finally, we add the new sequence to the new dictionary\n",
    "    seqs_revcomp.append(new_seq)\n",
    "       \n",
    "    # Confirm that this code works and try to understand why it does! Can you code another way to do the same thing?\n",
    "    print('-'*40)\n",
    "    print('Forward sequence:\\t',seqs)\n",
    "    print('Reverse sequence:\\t',seqs_revcomp)"
   ]
  },
  {
   "cell_type": "markdown",
   "metadata": {
    "tags": []
   },
   "source": [
    "## Step 1: Generate and Prepare Targets (only need to run once)"
   ]
  },
  {
   "cell_type": "markdown",
   "metadata": {
    "jp-MarkdownHeadingCollapsed": true,
    "tags": []
   },
   "source": [
    "### Generate target structures"
   ]
  },
  {
   "cell_type": "markdown",
   "metadata": {
    "tags": []
   },
   "source": [
    "Now, we need to create a 3D structure for the desired DNA sequence. <br>\n",
    "For this, one option is to use X3DNA. However you can also substitute any other PDB structure of your DNA target. <br>"
   ]
  },
  {
   "cell_type": "code",
   "execution_count": 17,
   "metadata": {},
   "outputs": [
    {
     "name": "stdout",
     "output_type": "stream",
     "text": [
      "Added X3DNA path to the PATH environment variable\n",
      "Running \"/mnt/home/cjg263/software/x3dna-v2.4/bin/fiber -seq=AATTGGTCTGCGCACCAGCA -rep=1 -b /net/scratch/cjg263/de_novo_dna/HBVa_HSB-2/rifdock/target_seqs/AATTGGTCTGCGCACCAGCA.pdb\" with a subprocess\n",
      "Output file: /net/scratch/cjg263/de_novo_dna/HBVa_HSB-2/rifdock/target_seqs/AATTGGTCTGCGCACCAGCA.pdb\n",
      "Running \"/mnt/home/cjg263/software/x3dna-v2.4/bin/fiber -seq=GCACCGCCCGCGAGCCAACC -rep=1 -b /net/scratch/cjg263/de_novo_dna/HBVa_HSB-2/rifdock/target_seqs/GCACCGCCCGCGAGCCAACC.pdb\" with a subprocess\n",
      "Output file: /net/scratch/cjg263/de_novo_dna/HBVa_HSB-2/rifdock/target_seqs/GCACCGCCCGCGAGCCAACC.pdb\n"
     ]
    }
   ],
   "source": [
    "### DOCK-05\n",
    "\n",
    "path_to_x3dna = '' # change this to your installation path for x3dna\n",
    "os.environ['X3DNA'] = f'{path_to_x3dna}'\n",
    "sys.path.append(f':{software_path}/x3dna-v2.4/bin')\n",
    "print('Added X3DNA path to the PATH environment variable')\n",
    "# ...and this line specifies the path to the actual executable, called `fiber`\n",
    "x3dna_path = f'{software_path}x3dna-v2.4/bin/fiber'\n",
    "# This function generates ideal DNA from a given sequence, based on the original structures\n",
    "# These structures were solved not from crystals but from fibers, where the DNA sequence was ambiguous\n",
    "# We will be using the most famous DNA structure, ideal B-form\n",
    "\n",
    "outdir=f'{rifdock_path}/target_seqs'\n",
    "os.makedirs(outdir,exist_ok=True)\n",
    "\n",
    "for seq in seqs:\n",
    "    cmd = f'{x3dna_path} -seq={seq} -rep=1 -b {outdir}/{seq}.pdb'\n",
    "    print(f'Running \"{cmd}\" with a subprocess')\n",
    "    # -seq is a flag which takes the sequence of the DNA, -rep is the number of repeats of the sequence to generate, \n",
    "    # -b specifies B-form, and the final argument is the output path\n",
    "\n",
    "    # the split() command divides a string into a list of its substrings separated by a space\n",
    "    args = cmd.split()\n",
    "    print(f'Output file: {args[-1]}')\n",
    "    # subprocess.Popen() runs a shell command, such as a C++ executable, as a subprocess\n",
    "    process = Popen(args,stdout=PIPE, stderr=PIPE)\n",
    "    out, err = process.communicate()\n",
    "    # This \"process\" is a subprocess running the executable command. You could also have copied the command into a bash terminal and run it that way."
   ]
  },
  {
   "cell_type": "markdown",
   "metadata": {
    "jp-MarkdownHeadingCollapsed": true,
    "tags": []
   },
   "source": [
    "### Generate hotspots"
   ]
  },
  {
   "cell_type": "markdown",
   "metadata": {},
   "source": [
    "Now that we have the target structures made, we will also need to specify exactly where on that target we want our proteins to bind. <br>\n",
    "To do this, look at where your assigned 3mer lies in your assigned target sequence and find the corresponding residue numbers in the pdb. <br>\n",
    "Note that you need to get the numbers for both the forward and reverse strand. <br>\n",
    "I recommend opening up your pdbs in pymol to figure this out. You should be able to find the paths in the commands printed above. <br>"
   ]
  },
  {
   "cell_type": "code",
   "execution_count": 26,
   "metadata": {},
   "outputs": [
    {
     "name": "stdout",
     "output_type": "stream",
     "text": [
      "List of dsDNA .pdbs: ['/net/scratch/cjg263/de_novo_dna/HBVa_HSB-2/rifdock/target_seqs/AATTGGTCTGCGCACCAGCA.pdb', '/net/scratch/cjg263/de_novo_dna/HBVa_HSB-2/rifdock/target_seqs/GCACCGCCCGCGAGCCAACC.pdb']\n",
      "List of hotspot target residues: [3, 4, 5, 6, 7, 8, 9, 10, 11, 12, 13, 14, 15, 16, 17, 18, 23, 24, 25, 26, 27, 28, 29, 30, 31, 32, 33, 34, 35, 36, 37, 38]\n"
     ]
    }
   ],
   "source": [
    "### HOT-00\n",
    "\n",
    "# Collect pose info from DNA target PDBs. Make sure that the pdb is numbered continuously, starting at residue 1.\n",
    "# You need to specify the length of the double-stranded region and range of base-pairs that you want to target. \n",
    "\n",
    "pdbs = glob.glob(f'{rifdock_path}/target_seqs/*.pdb')\n",
    "print(f'List of dsDNA .pdbs: {pdbs}')\n",
    "\n",
    "strand1_hotspots = {}\n",
    "strand2_hotspots = {}\n",
    "######################################################################\n",
    "#### User input: Fill in the residue numbers for your target site ####\n",
    "######################################################################\n",
    "# If you want to assign different target sites for different sequences,\n",
    "# then remove the for loop and input them manually\n",
    "for seq in seqs:\n",
    "    strand1_hotspots[seq] = list(range(start, end))     # Usually exclude the first and last 2 bases of the target sequence\n",
    "    strand2_hotspots[seq] = list(range(start+len(seqs[seq], end+len(seqs[seq]))     # Target range is the complementary bases on the other strand\n",
    "######################################################################\n",
    "######################################################################\n",
    "\n",
    "# Write the target residues to a list, so the code can access it later.\n",
    "for seq in seqs:\n",
    "    target_resis = strand1_hotspots[seq] + strand2_hotspots[seq]\n",
    "    with open(f'{rifdock_path}/target_res_{seq}.list', 'w') as f:\n",
    "        f.write('\\n'.join([str(x) for x in target_resis]) + '\\n') # this will write out the list, separated by the newline character \"\\n\" - look up \"list comprehension\" if you want to know more about how this line works!\n",
    "        f.close() \n",
    "print(f'List of hotspot target residues: {target_resis}')"
   ]
  },
  {
   "cell_type": "markdown",
   "metadata": {},
   "source": [
    "The next few cells are going to generate \"hotspots\", which are specific locations on the target where we look for special interactions we think will help binding. <br>\n",
    "Specifically, we consider all ADENINE and GUANINE bases in the target site of the DNA. \n",
    "Then, we align bidentate-hydrogen-bonding residues from known DNA-binding proteins onto the target DNA.\n",
    "The positions where those protein residues end up are the hotspots used by rifdock to place our scaffolds onto the target."
   ]
  },
  {
   "cell_type": "code",
   "execution_count": 27,
   "metadata": {},
   "outputs": [
    {
     "name": "stdout",
     "output_type": "stream",
     "text": [
      "Found hotspots (adenine residues) at the following positions for AATTGGTCTGCGCACCAGCA: ['14', '17', '32', '34', '37', '38']\n",
      "Found hotspots (guanine residues) at the following positions in AATTGGTCTGCGCACCAGCA: ['5', '6', '10', '12', '18', '25', '26', '28', '30', '33']\n",
      "Found hotspots (adenine residues) at the following positions for GCACCGCCCGCGAGCCAACC: ['3', '13', '17', '18']\n",
      "Found hotspots (guanine residues) at the following positions in GCACCGCCCGCGAGCCAACC: ['6', '10', '12', '14', '25', '26', '30', '32', '33', '34', '36', '37']\n"
     ]
    }
   ],
   "source": [
    "### HOT-01\n",
    "\n",
    "# First, we just need to identify the residue numbers of all ADE and GUA nucleotides in the structure. \n",
    "\n",
    "for i, seq in enumerate(seqs):\n",
    "    # Combine the sequences of both strands\n",
    "    full_seq = seqs[i] + seqs_revcomp[i]\n",
    "  \n",
    "    # Use a list comprehension with an \"if\" clause to pull out just the sites where there's an ADE\n",
    "    ADE_hotspot_resis = [str(res) for res in target_resis if full_seq[res-1] == 'A']\n",
    "    print(f'Found hotspots (adenine residues) at the following positions for {seq}: {ADE_hotspot_resis}')\n",
    "#   python is 0-indexed, while the pdb numbering starts at 1 ^^^^^^^^^^^^^^^ \n",
    "#   (i.e. to get the first letter of a string, you use `string[0]`)\n",
    "    \n",
    "    # Save the list to a file so we can use it down the road\n",
    "    with open(f'{rifdock_path}/ADE_hotspot_target_res_{seq}.list', 'w') as f:\n",
    "        f.write('\\n'.join(ADE_hotspot_resis) + '\\n')\n",
    "        \n",
    "    # Same thing for GUA:\n",
    "    GUA_hotspot_resis = [str(res) for res in target_resis if full_seq[res-1] == 'G']\n",
    "    print(f'Found hotspots (guanine residues) at the following positions in {seq}: {GUA_hotspot_resis}')\n",
    "    with open(f'{rifdock_path}/GUA_hotspot_target_res_{seq}.list', 'w') as f:\n",
    "        f.write('\\n'.join(GUA_hotspot_resis) + '\\n')"
   ]
  },
  {
   "cell_type": "code",
   "execution_count": 29,
   "metadata": {},
   "outputs": [
    {
     "name": "stdout",
     "output_type": "stream",
     "text": [
      "Collected bidentate ligand models to adenine residues (glutamine and asparagine rotamers)\n",
      "Running \"python /mnt/home/cjg263/software/align_vdm_w_lig_atoms_A.py /net/scratch/cjg263/de_novo_dna/HBVa_HSB-2/rifdock ADE_hotspots.list GLN_ASN DA /net/scratch/cjg263/de_novo_dna/HBVa_HSB-2/rifdock/target_seqs/AATTGGTCTGCGCACCAGCA.pdb 14,17,32,34,37,38\" with a subprocess\n",
      "Running \"python /mnt/home/cjg263/software/align_vdm_w_lig_atoms_A.py /net/scratch/cjg263/de_novo_dna/HBVa_HSB-2/rifdock ADE_hotspots.list GLN_ASN DA /net/scratch/cjg263/de_novo_dna/HBVa_HSB-2/rifdock/target_seqs/GCACCGCCCGCGAGCCAACC.pdb 3,13,17,18\" with a subprocess\n",
      "Outputted aligned ligand rotamer .pdbs in /net/scratch/cjg263/de_novo_dna/HBVa_HSB-2/rifdock/base_aligned_GLN_ASN_hotspots/\n"
     ]
    }
   ],
   "source": [
    "### HOT-02\n",
    "\n",
    "# Next, we will align bidentate hydrogen bonding residues from natives onto the target hotspots. \n",
    "script = f'{software_path}align_vdm_w_lig_atoms_A.py'\n",
    "\n",
    "# This cell will construct the inputs and command necessary to run the script for GLN- and ASN-ADE bidentates\n",
    "\n",
    "# First, collect paths to the native bidentates and save them to a list\n",
    "bidentate_paths = glob.glob(f'./hotspots/ADE_hotspots/*pdb')\n",
    "with open(f'{rifdock_path}/ADE_hotspots.list', 'w') as f:\n",
    "    for path in bidentate_paths:\n",
    "        f.write(path+'\\n')\n",
    "print('Collected bidentate ligand models to adenine residues (GLN and ASN rotamers)')\n",
    "\n",
    "# Then, assemble the command for the script, which takes the form:\n",
    "# <script> <directory> <bidentate_list> <protein_residue_types> <DNA_base_types> <target_pdb> <residue,indexes,,,>\n",
    "\n",
    "for seq in seqs:\n",
    "    pdb = f'{rifdock_path}/target_seqs/{seq}.pdb'\n",
    "    with open(f'{rifdock_path}/ADE_hotspot_target_res_{seq}.list') as f_in:\n",
    "        ADE_hotspot_resis = [line.strip() for line in f_in]\n",
    "\n",
    "        # We want to skip running the script if there are no relevant hotspots\n",
    "        if ADE_hotspot_resis == ['']:\n",
    "            print('There are no adenine hotspots, skipping',seq)\n",
    "            continue\n",
    "\n",
    "    # Again, we are going to run this script using subprocess.\n",
    "    cmd = f'python {script} {rifdock_path} ADE_hotspots.list GLN_ASN DA {pdb} {\",\".join(ADE_hotspot_resis)}'\n",
    "    print(f'Running \"{cmd}\" with a subprocess')\n",
    "    os.chdir(rifdock_path)\n",
    "\n",
    "    p = subprocess.Popen(cmd.split())\n",
    "    p.communicate()\n",
    "\n",
    "# Afterwards, look at some of the pdbs in `base_aligned_GLN_ASN_hotspots` with the target structure to see what this code did.\n",
    "print(f'Outputted aligned ligand rotamer .pdbs in {rifdock_path}/base_aligned_GLN_ASN_hotspots/')"
   ]
  },
  {
   "cell_type": "code",
   "execution_count": 32,
   "metadata": {},
   "outputs": [
    {
     "name": "stdout",
     "output_type": "stream",
     "text": [
      "Collected bidentate ligand models to guanine residues (arginine rotamers)\n",
      "Running \"python /mnt/home/cjg263/software/align_vdm_w_lig_atoms_G.py /net/scratch/cjg263/de_novo_dna/HBVa_HSB-2/rifdock GUA_hotspots.list ARG DG /net/scratch/cjg263/de_novo_dna/HBVa_HSB-2/rifdock/target_seqs/AATTGGTCTGCGCACCAGCA.pdb 5,6,10,12,18,25,26,28,30,33\" with a subprocess\n",
      "Running \"python /mnt/home/cjg263/software/align_vdm_w_lig_atoms_G.py /net/scratch/cjg263/de_novo_dna/HBVa_HSB-2/rifdock GUA_hotspots.list ARG DG /net/scratch/cjg263/de_novo_dna/HBVa_HSB-2/rifdock/target_seqs/GCACCGCCCGCGAGCCAACC.pdb 6,10,12,14,25,26,30,32,33,34,36,37\" with a subprocess\n",
      "Outputted aligned ligand rotamer .pdbs in /net/scratch/cjg263/de_novo_dna/HBVa_HSB-2/rifdock/base_aligned_ARG_hotspots/\n"
     ]
    }
   ],
   "source": [
    "### HOT-03\n",
    "\n",
    "# This cell will construct the inputs and command necessary to run the same script for ARG-GUA bidentates\n",
    "\n",
    "bidentate_paths = glob.glob(f'{software_path}/rifdock/GUA_hotspots/*pdb')\n",
    "with open(f'{rifdock_path}/GUA_hotspots.list', 'w') as f:\n",
    "    for path in bidentate_paths:\n",
    "        f.write(path+'\\n')\n",
    "print('Collected bidentate ligand models to guanine residues (arginine rotamers)')\n",
    "\n",
    "script = f'{software_path}align_vdm_w_lig_atoms_G.py'\n",
    "\n",
    "for seq in seqs:\n",
    "    pdb = f'{rifdock_path}/target_seqs/{seq}.pdb'\n",
    "    with open(f'{rifdock_path}/GUA_hotspot_target_res_{seq}.list') as f_in:\n",
    "        GUA_hotspot_resis = [line.strip() for line in f_in]\n",
    "\n",
    "        # We want to skip running the script if there are no relevant hotspots\n",
    "        if len(GUA_hotspot_resis) == 0\n",
    "            print('skipping',seq)\n",
    "            continue\n",
    "\n",
    "    # Again, we are going to run this script using subprocess.\n",
    "    cmd = f'python {script} {rifdock_path} GUA_hotspots.list ARG DG {pdb} {\",\".join(GUA_hotspot_resis)}'\n",
    "    print(f'Running \"{cmd}\" with a subprocess')\n",
    "\n",
    "    # For this script, we need to change our working directory. The python equivalent of bash's cd is os.chdir()\n",
    "    os.chdir(rifdock_path)\n",
    "\n",
    "    p = subprocess.Popen(cmd.split())\n",
    "    p.communicate()\n",
    "\n",
    "print(f'Outputted aligned ligand rotamer .pdbs in {rifdock_path}/base_aligned_ARG_hotspots/')"
   ]
  },
  {
   "cell_type": "code",
   "execution_count": 33,
   "metadata": {
    "scrolled": true
   },
   "outputs": [
    {
     "name": "stdout",
     "output_type": "stream",
     "text": [
      "Found 0 for AATTGGTCTGCGCACCAGCA resi 3\n",
      "Found 0 for AATTGGTCTGCGCACCAGCA resi 4\n",
      "Found 748 for AATTGGTCTGCGCACCAGCA resi 5\n",
      "Found 748 for AATTGGTCTGCGCACCAGCA resi 6\n",
      "Found 0 for AATTGGTCTGCGCACCAGCA resi 7\n",
      "Found 0 for AATTGGTCTGCGCACCAGCA resi 8\n",
      "Found 0 for AATTGGTCTGCGCACCAGCA resi 9\n",
      "Found 748 for AATTGGTCTGCGCACCAGCA resi 10\n",
      "Found 0 for AATTGGTCTGCGCACCAGCA resi 11\n",
      "Found 748 for AATTGGTCTGCGCACCAGCA resi 12\n",
      "Found 0 for AATTGGTCTGCGCACCAGCA resi 13\n",
      "Found 106 for AATTGGTCTGCGCACCAGCA resi 14\n",
      "Found 0 for AATTGGTCTGCGCACCAGCA resi 15\n",
      "Found 0 for AATTGGTCTGCGCACCAGCA resi 16\n",
      "Found 106 for AATTGGTCTGCGCACCAGCA resi 17\n",
      "Found 748 for AATTGGTCTGCGCACCAGCA resi 18\n",
      "Found 0 for AATTGGTCTGCGCACCAGCA resi 23\n",
      "Found 0 for AATTGGTCTGCGCACCAGCA resi 24\n",
      "Found 748 for AATTGGTCTGCGCACCAGCA resi 25\n",
      "Found 748 for AATTGGTCTGCGCACCAGCA resi 26\n",
      "Found 0 for AATTGGTCTGCGCACCAGCA resi 27\n",
      "Found 748 for AATTGGTCTGCGCACCAGCA resi 28\n",
      "Found 0 for AATTGGTCTGCGCACCAGCA resi 29\n",
      "Found 748 for AATTGGTCTGCGCACCAGCA resi 30\n",
      "Found 0 for AATTGGTCTGCGCACCAGCA resi 31\n",
      "Found 106 for AATTGGTCTGCGCACCAGCA resi 32\n",
      "Found 748 for AATTGGTCTGCGCACCAGCA resi 33\n",
      "Found 106 for AATTGGTCTGCGCACCAGCA resi 34\n",
      "Found 0 for AATTGGTCTGCGCACCAGCA resi 35\n",
      "Found 0 for AATTGGTCTGCGCACCAGCA resi 36\n",
      "Found 106 for AATTGGTCTGCGCACCAGCA resi 37\n",
      "Found 106 for AATTGGTCTGCGCACCAGCA resi 38\n",
      "Found 106 for GCACCGCCCGCGAGCCAACC resi 3\n",
      "Found 0 for GCACCGCCCGCGAGCCAACC resi 4\n",
      "Found 0 for GCACCGCCCGCGAGCCAACC resi 5\n",
      "Found 748 for GCACCGCCCGCGAGCCAACC resi 6\n",
      "Found 0 for GCACCGCCCGCGAGCCAACC resi 7\n",
      "Found 0 for GCACCGCCCGCGAGCCAACC resi 8\n",
      "Found 0 for GCACCGCCCGCGAGCCAACC resi 9\n",
      "Found 748 for GCACCGCCCGCGAGCCAACC resi 10\n",
      "Found 0 for GCACCGCCCGCGAGCCAACC resi 11\n",
      "Found 748 for GCACCGCCCGCGAGCCAACC resi 12\n",
      "Found 106 for GCACCGCCCGCGAGCCAACC resi 13\n",
      "Found 748 for GCACCGCCCGCGAGCCAACC resi 14\n",
      "Found 0 for GCACCGCCCGCGAGCCAACC resi 15\n",
      "Found 0 for GCACCGCCCGCGAGCCAACC resi 16\n",
      "Found 106 for GCACCGCCCGCGAGCCAACC resi 17\n",
      "Found 106 for GCACCGCCCGCGAGCCAACC resi 18\n",
      "Found 0 for GCACCGCCCGCGAGCCAACC resi 23\n",
      "Found 0 for GCACCGCCCGCGAGCCAACC resi 24\n",
      "Found 748 for GCACCGCCCGCGAGCCAACC resi 25\n",
      "Found 748 for GCACCGCCCGCGAGCCAACC resi 26\n",
      "Found 0 for GCACCGCCCGCGAGCCAACC resi 27\n",
      "Found 0 for GCACCGCCCGCGAGCCAACC resi 28\n",
      "Found 0 for GCACCGCCCGCGAGCCAACC resi 29\n",
      "Found 748 for GCACCGCCCGCGAGCCAACC resi 30\n",
      "Found 0 for GCACCGCCCGCGAGCCAACC resi 31\n",
      "Found 748 for GCACCGCCCGCGAGCCAACC resi 32\n",
      "Found 748 for GCACCGCCCGCGAGCCAACC resi 33\n",
      "Found 748 for GCACCGCCCGCGAGCCAACC resi 34\n",
      "Found 0 for GCACCGCCCGCGAGCCAACC resi 35\n",
      "Found 748 for GCACCGCCCGCGAGCCAACC resi 36\n",
      "Found 748 for GCACCGCCCGCGAGCCAACC resi 37\n",
      "Found 0 for GCACCGCCCGCGAGCCAACC resi 38\n"
     ]
    }
   ],
   "source": [
    "### HOT-04\n",
    "\n",
    "# This cell groups together hotspot interactions found in the previous step into a single pdb of all the interactions to use at each site\n",
    "\n",
    "# directory where the output will go\n",
    "os.makedirs(f'{rifdock_path}/base_aligned_hotspot_groups/', exist_ok=True)\n",
    "\n",
    "for seq in seqs:\n",
    "    pdb = f'{rifdock_path}/target_seqs/{seq}.pdb'\n",
    "    aligned_hotspots = glob.glob(f'{rifdock_path}/base_aligned_*_hotspots/{seq}/*pdb')\n",
    "    \n",
    "    hotspot_resis = strand1_hotspots[seq] + strand2_hotspots[seq]\n",
    "    \n",
    "    for res in hotspot_resis:\n",
    "        num_hotspots = 0\n",
    "        for hotspot in aligned_hotspots:\n",
    "            if f'_{res}_' in hotspot:\n",
    "                num_hotspots += 1\n",
    "        print(f'Found {num_hotspots} for {seq} resi {res}')\n",
    "        if num_hotspots == 0:\n",
    "            continue\n",
    "        \n",
    "        with open(f'{rifdock_path}/base_aligned_hotspot_groups/{seq}_group{res}.pdb', 'w') as f_out:\n",
    "            for hotspot in aligned_hotspots:\n",
    "                if f'_{res}_' in hotspot:\n",
    "                    with open(hotspot, 'r') as f_in:\n",
    "                        lines = [line for line in f_in]\n",
    "                        f_in.close()\n",
    "                    for line in lines:\n",
    "                        f_out.write(line)\n",
    "                    f_out.write('TER\\n')\n",
    "                    \n",
    "# Notice any pattern in the output? I see 748 for every GUA and 106 for every ADE\n",
    "# Look at the outputs again, this time in base_alinged_hotspot_groups. Make sure to also load your target DNA!"
   ]
  },
  {
   "cell_type": "markdown",
   "metadata": {
    "jp-MarkdownHeadingCollapsed": true,
    "tags": []
   },
   "source": [
    "## Step 2: Rifgen (Only run once)"
   ]
  },
  {
   "cell_type": "markdown",
   "metadata": {},
   "source": [
    "Now we're going to run Rifgen. This is a big and powerful program that goes hand in hand with rifdock. <br>\n",
    "Rifgen's goal is to make a hash table which can be used to very quickly find and evaluate solutions to the rigid-body docking problem. <br>\n",
    "Basically, it evaluates how good each of the 20 amino acids would be at every point in space around the target, <br>\n",
    "which can be rapidly extrapolated to know how good it is to place the backbone of a protein at any of those points. <br>\n",
    "This information is then used by rifdock to quickly find docked positions of the full scaffold that score as well as possible. <br>"
   ]
  },
  {
   "cell_type": "code",
   "execution_count": 8,
   "metadata": {},
   "outputs": [
    {
     "name": "stdout",
     "output_type": "stream",
     "text": [
      "Set rifgen command flags\n"
     ]
    }
   ],
   "source": [
    "### RIFG-00\n",
    "\n",
    "# This cell, rather than running code itself, defines a function that we will use later.\n",
    "# This function takes several arguments, which correspond to important input parameters of rifgen.\n",
    "# The function then returns this large multi-line string, which can be written to a file to define all of rifgen's settings.\n",
    "\n",
    "# We use mostly the same settings every time, so the variables here are mostly the paths to inputs and outputs, plus the hotspot residues.\n",
    "\n",
    "def gen_flag_file(pdb,rifdock_path,name,hotspot_resis):\n",
    "    RIFGEN_FLAG_FILE = f\"\"\"\n",
    "################### File I/O flags ######################################\n",
    "-rifgen:target           {pdb}\n",
    "-in:file:extra_res_fa\n",
    "-rifgen:target_res       {rifdock_path}/target_res_{name}.list\n",
    "\n",
    "-rifgen:outdir           {rifdock_path}/{name}_rifgen_output/\n",
    "-rifgen:outfile          {name}_rnd1.rif.gz\n",
    "\n",
    "############################## RIF Flags #####################################\n",
    "\n",
    "# What kind of RIF do you want to generate:\n",
    "#                                    Normal: RotScore64\n",
    "#            Normal with hbond satisfaction: RotScoreSat (RotScoreSat_2x16 if you have >255 of polar atoms)\n",
    "# Hotspots:\n",
    "#    I may want to use require_satisfaction: RotScoreSat_1x16\n",
    "#  I don't want to use require_satisfaction: RotScore64\n",
    "\n",
    "-rifgen::rif_type RotScoreSat_1x16\n",
    "\n",
    "##################### Normal RIF Configuration ##############################\n",
    "\n",
    "# The next three flags control how the RIF is built (hotspots are separate!!)\n",
    "# Which rif residues do you want to use?\n",
    "#  apores are the hydrophobics (h-bonding is not considered when placing these)\n",
    "#  donres donate hydrogens to form hydrogen bonds\n",
    "#  accres accept hydrogens to form hydrogen bonds\n",
    "-rifgen:apores # ALA VAL ILE LEU MET PHE TRP # optionally allow hydrophobic residues for thymine\n",
    "-rifgen:donres ARG LYS GLN ASN # roughly in decreasing order of sample size. Only seeding canonical hbonding residues in major groove. \n",
    "-rifgen:accres GLU GLN ASP ASN\n",
    "\n",
    "-rifgen:score_threshold -0.5  # the score a rotamer must get in order to be added to the rif (kcal/mol) \n",
    "\n",
    "###################### Hotspot configuration #################################\n",
    "#   (use this either with or without apores, donres, and accres)\n",
    "\n",
    "# Pick one of the two following methods for hotspot input:\n",
    "\n",
    "# Hotspot input multiple distinct groups\n",
    "-hotspot_groups {\" \".join(hotspot_resis)}\n",
    "\n",
    "# Hotspot input every hotspot is a group\n",
    "# -hotspot_groups all_my_hotspots.pdb\n",
    "#-single_file_hotspots_insertion single_file_hotspots.pdb\n",
    "\n",
    "-hotspot_sample_cart_bound 0.5   # How much do you want your hotspots to move left/right/up/down\n",
    "-hotspot_sample_angle_bound 5   # What angular deviation from your hotspot will you accept\n",
    "\n",
    "-hotspot_nsamples 3000  # How many times should the random sampling be done. 100000 - 1000000 is good\n",
    "\n",
    "-hotspot_score_thresh -0.5 # What score must a hotspot produce in order to be added to the RIF\n",
    "#-hotspot_score_bonus -4    # Be careful, rifdock has a maximum score of -9\n",
    "                             #  do not exceed this (this gets added to the hotspot score)\n",
    "\n",
    "###################### General flags #######################################\n",
    "\n",
    "-rifgen:hbond_weight 2.0           # max score per h-bond (kcal/mol. Rosetta is ~ 2.1)\n",
    "-rifgen:upweight_multi_hbond 0.0   # extra score factor for bidentate hbonds (this is really sketchy)\n",
    "\n",
    "# For donres and accres. What's the minimum quality h-bond where we keep the rotamers even if it doesn't pass score_threshold?\n",
    "# This is on a scale from -1 to 0 where -1 represents a perfect hbond\n",
    "-min_hb_quality_for_satisfaction -0.5\n",
    "\n",
    "\n",
    "# Change this depending on what version of rifdock you are using\n",
    "-database /home/bcov/rifdock/latest/database\n",
    "\n",
    "###################### Experimental flags ##################################\n",
    "\n",
    "# -use_rosetta_grid_energies true/false  # Use Frank's grid energies for donres, accres, and user hotspots\n",
    "\n",
    "##############################################################################\n",
    "##############################################################################\n",
    "#################### END OF USER ADJUSTABLE SETTINGS #########################\n",
    "##############################################################################\n",
    "##############################################################################\n",
    "\n",
    "-rifgen:extra_rotamers false          # actually ex1 ex2 \n",
    "-rifgen:extra_rif_rotamers true       # kinda like ex2\n",
    "\n",
    "-rif_accum_scratch_size_M 24000\n",
    "\n",
    "-renumber_pdb\n",
    "\n",
    "-hash_cart_resl              0.7      # rif cartesian resolution\n",
    "-hash_angle_resl            14.0      # rif angle resolution\n",
    "\n",
    "# how exactly should the rosetta energy field be calculated?\n",
    "# The further down you go, the higher the resolution\n",
    "# This only affects hydrophobics\n",
    "-rifgen::rosetta_field_resl 0.25\n",
    "-rifgen::search_resolutions 3.0 1.5 0.75\n",
    "#-rifgen::rosetta_field_resl 0.125\n",
    "#-rifgen::search_resolutions 4.0 2.0 1.0 0.5\n",
    "#-rifgen::rosetta_field_resl 0.125\n",
    "#-rifgen::search_resolutions 3.0 1.5 0.75 0.375\n",
    "\n",
    "# This folder only exists to save time. Set it somewhere you can write if the default doesn't work\n",
    "#-rifgen:data_cache_dir    /software/rifdock/cache\n",
    "-rifgen:data_cache_dir    /net/scratch/{user}/rifgen_orbital_test_cache\n",
    "\n",
    "-rifgen:score_cut_adjust 0.8\n",
    "\n",
    "-hbond_cart_sample_hack_range 1.00\n",
    "-hbond_cart_sample_hack_resl  0.33\n",
    "\n",
    "-rifgen:tip_tol_deg        60.0 # for now, do either 60 or 36\n",
    "-rifgen:rot_samp_resl       6.0\n",
    "\n",
    "-rifgen:rif_hbond_dump_fraction  0.000001\n",
    "-rifgen:rif_apo_dump_fraction    0.000001\n",
    "\n",
    "-add_orbitals\n",
    "\n",
    "-rifgen:beam_size_M 10000.0\n",
    "-rifgen:hash_preallocate_mult 0.125\n",
    "-rifgen:max_rf_bounding_ratio 4.0\n",
    "\n",
    "-rifgen:hash_cart_resls   16.0   8.0   4.0   2.0   1.0\n",
    "-rifgen:hash_cart_bounds   512   512   512   512   512\n",
    "-rifgen:lever_bounds      16.0   8.0   4.0   2.0   1.0\n",
    "-rifgen:hash_ang_resls     38.8  24.4  17.2  13.6  11.8 # yes worky worky\n",
    "-rifgen:lever_radii        23.6 18.785501 13.324600  8.425850  4.855575\n",
    "\n",
    "\"\"\"\n",
    "    return RIFGEN_FLAG_FILE\n",
    "print('Set rifgen command flags')"
   ]
  },
  {
   "cell_type": "code",
   "execution_count": null,
   "metadata": {},
   "outputs": [],
   "source": [
    "### RIFG-01\n",
    "\n",
    "# This cell will now assemble the command(s) to run rifgen on our target(s). You will need RIFgen installed in your system. Enter the path below:\n",
    "path_to_rifgen = '' # this is the path to rifgen\n",
    "\n",
    "cmds = f'{rifdock_path}/cmds_rifgen'\n",
    "\n",
    "with open(cmds, 'w') as cmds_file:\n",
    "    for seq in seqs:\n",
    "        \n",
    "        # Get the necessary paths\n",
    "        pdb = f'{rifdock_path}/target_seqs/{seq}.pdb'\n",
    "        hotspot_resis = glob.glob(f'{rifdock_path}/base_aligned_hotspot_groups/{seq}*pdb')\n",
    "        \n",
    "        # Save a rifgen flag file.\n",
    "        RIFGEN_FLAG_FILE=gen_flag_file(pdb,rifdock_path,seq,hotspot_resis)\n",
    "        with open(f'{rifdock_path}/{seq}_rifgen.flag', 'w') as f:\n",
    "            f.write(RIFGEN_FLAG_FILE)\n",
    "        \n",
    "        cmd = f'OMP_NUM_THREADS=16 {path_to_rigen} @{rifdock_path}/{seq}_rifgen.flag> {rifdock_path}/{seq}_rifgen.log 2>&1'\n",
    "        cmds_file.write(cmd+'\\n')\n",
    "        \n",
    "        print(\"Run the following command in a node with around 100 GB of memory and 16 CPU's: \", cmd)"
   ]
  },
  {
   "cell_type": "markdown",
   "metadata": {},
   "source": [
    "Once your Rifgen job is done, check to make sure the output is there. <br>\n",
    "It will be in a directory ending with `rifgen_output` in your /net/scratch/ working directory. <br>\n",
    "There should be a bunch of compressed (`.gz`) files. <br>"
   ]
  },
  {
   "cell_type": "markdown",
   "metadata": {
    "tags": []
   },
   "source": [
    "## Step 3: Rifdock (only run once)"
   ]
  },
  {
   "cell_type": "markdown",
   "metadata": {},
   "source": [
    "Finally, we are going to run rifdock itself. This program works with the outputs from rifgen we just made, <br>\n",
    "and uses them to place entire protein scaffolds into good spots on the target structure. <br>\n",
    "We are going to generate a LOT of docks, so be prepared for this step to take several days to run on the digs."
   ]
  },
  {
   "cell_type": "code",
   "execution_count": 42,
   "metadata": {},
   "outputs": [
    {
     "name": "stdout",
     "output_type": "stream",
     "text": [
      "Created function to set rifdock command flags\n"
     ]
    }
   ],
   "source": [
    "### RIFD-00\n",
    "\n",
    "# Once again, we define a function that will generate the text for the flags file used by rifdock.\n",
    "# This time, there are several parameters we've played around with in the past.\n",
    "# If you're running the pipeline for the first time, you can probably use our defaults here,\n",
    "# but you may want to play around with the settings later on.\n",
    "\n",
    "# Flags that you may consider changing are marked with a ^_^\n",
    "\n",
    "def gen_rifdock_flags(rifgen_log,name,rifdock_path): # write a rifdock flags file:\n",
    "    \n",
    "    # This flag sets a minimum requirement for docks to pass scoring and be output.\n",
    "    # Specifically, it requires that there be at least two \"privileged\" interactions between the protein and the target\n",
    "    # We define privileged interactions as base-specific hydrogen bonds, especially potential bidentates.\n",
    "    # Increasing this number will likely result in fewer docks, but they may be higher quality.\n",
    "    n_satisfied = 2             # ^_^\n",
    "    \n",
    "    # This flag enables a special behavior in rifdock that imposes a penalty for bringing the protein backbone\n",
    "    # too close to the target, in addition to the energetics of their interactions\n",
    "    # We used to have problems with docks being too close, but no longer really use this.\n",
    "    # If you want, you could turn on this feature and play around with how strong you want the effect to be.\n",
    "    distance_penalty = False    # ^_^\n",
    "    CB_too_close_dist = 3.5     # ^_^\n",
    "    CB_too_close_penalty = 8    # ^_^\n",
    "\n",
    "    # This feature has a similar story: it provides a bonus or penalty for bringing two types of residues close together\n",
    "    # Specifically, we used it to force the N-terminal ends of helices to be close to the negatively-charged phosphate backbone\n",
    "    # The idea was to take advantage of the inherent dipole of alpha-helices, which is positive on the N-terminal end\n",
    "    # In practice, our scaffolds are designed such that most of the docks produce this effect anyway, without needing to force it.\n",
    "    # If you want, you could turn this on and play around with the strengths and distance cutoffs.\n",
    "    helix_dipole_bonus = False  # ^_^\n",
    "    INFOLABEL_N = 'N-TERM:N'    \n",
    "    INFOLABEL_C = 'C-TERM:O'    \n",
    "    BONUS = 1                   # ^_^\n",
    "    PENALTY = 8                 # ^_^\n",
    "    RESL = 0.1                  # ^_^\n",
    "    MIN_DIST = 3.5              # ^_^\n",
    "    MAX_DIST = 5                # ^_^\n",
    "    MIN_DIST_PEN = 6            # ^_^\n",
    "    MAX_DIST_PEN = 8            # ^_^\n",
    "\n",
    "    # The rest of this is just formatting the rifdock flag file based on the parameters specified.\n",
    "    \n",
    "    if distance_penalty == True:\n",
    "        distance_penalty_lines = f\"\"\"-CB_too_close_dist {CB_too_close_dist}\n",
    "-CB_too_close_penalty {CB_too_close_penalty}\n",
    "-CB_too_close_resl 0.1\"\"\"\n",
    "    else:\n",
    "        distance_penalty_lines = \"\"\n",
    "\n",
    "    if helix_dipole_bonus == True:\n",
    "        helix_dipole_bonus_lines = f\"\"\"-specific_atoms_close_bonus {INFOLABEL_N},-{BONUS},{RESL},{MIN_DIST},{MAX_DIST},{TARGET_ATOMS}\n",
    "-specific_atoms_close_bonus {INFOLABEL_C},{PENALTY},{RESL},{MIN_DIST_PEN},{MAX_DIST_PEN},{TARGET_ATOMS}\"\"\"\n",
    "\n",
    "    else:\n",
    "        helix_dipole_bonus_lines = \"\"\n",
    "\n",
    "    with open(rifgen_log, 'r') as f_in:\n",
    "        rifgen_log = ''\n",
    "        line_list = [line for line in f_in]\n",
    "        for line in line_list[-17:]:\n",
    "            rifgen_log = rifgen_log + line\n",
    "\n",
    "    # Everthing between the \"\"\"   \"\"\" is one long string\n",
    "    #                   vvvv BEGIN string\n",
    "    rifdock_flag_file = f\"\"\"{rifgen_log}\n",
    "\n",
    "\n",
    "-rif_dock:num_hotspots 10000\n",
    "\n",
    "################################### Flags that control distance from DNA atoms ##########################\n",
    "{distance_penalty_lines}\n",
    "{helix_dipole_bonus_lines}\n",
    "\n",
    "################################## Require DNA recognition helix ########################################\n",
    "-scaffold_res_pdbinfo_labels ss_RH\n",
    "\n",
    "#################################### Flags that control output ##########################################\n",
    "\n",
    "-rif_dock:outdir  {rifdock_path}/{name}_rifdock_output          # the output folder for this run\n",
    "-rif_dock:dokfile all.dok                 # the \"score file\" for this run\n",
    "\n",
    "-rif_dock:n_pdb_out 300                   # max number of output pdbs  # ^_^\n",
    "-rif_dock:redundancy_filter_mag 0.6       # The \"RMSD\" cluster threshold for the output. Smaller numbers give more, but redundant output  # ^_^\n",
    "\n",
    "#-rif_dock:target_tag conf01              # optional tag to add to all outputs\n",
    "-rif_dock:align_output_to_scaffold false  # If this is false, the output is aligned to the target\n",
    "\n",
    "# Pick either one of the following or none\n",
    "# (None)                                  # Output target + scaffold. But scaffold may be poly ALA with rifres based on scaffold_to_ala\n",
    "#-output_scaffold_only                    # Output just the scaffold. But scaffold may be poly ALA with rifres based on scaffold_to_ala\n",
    "-output_full_scaffold                     # Output target + scaffold. Scaffold retains input sequence plus rifres\n",
    "#-output_full_scaffold_only               # Output just the scaffold. Scaffold retains input sequence plus rifres\n",
    "\n",
    "\n",
    "############################ Flags that affect runtime/search space ####################################\n",
    "\n",
    "-beam_size_M 5                            # The number of search points to using during HSearch\n",
    "-hsearch_scale_factor 1.2                 # The default search resolution gets multiplied by this. People don't usually change this.\n",
    "\n",
    "#-rif_dock:tether_to_input_position 3     # Only allow results within this \"RMSD\" of the input scaffold\n",
    "\n",
    "-rif_dock:global_score_cut -7.0          # After HSearch and after HackPack, anything worse than this gets thrown out\n",
    "\n",
    "##################### Flags that only affect the PatchDock/RifDock runs ################################\n",
    "# Uncomment everything here except seeding_pos if running PatchDock/RifDock\n",
    "\n",
    "#-rif_dock:seeding_pos \"\"                 # Either a single file or a list of seeding position files\n",
    "#-rif_dock:seeding_by_patchdock true       # If true, seeding_pos is literally the PatchDock .out file\n",
    "                                          # If false, seeding_pos file is list of transforms. \n",
    "                                          #   (Each row is 12 numbers. First 9 are rotation matrix and last 3 are translation.)\n",
    "#-rif_dock:patchdock_min_sasa  1000        # Only take patchdock outputs with more than this sasa\n",
    "#-rif_dock:patchdock_top_ranks 2000        # Only take the first N patchdock outputs\n",
    "\n",
    "                                           \n",
    "#-rif_dock:xform_pos /mnt/home/bcov/sc/scaffold_comparison/data/xform_pos_ang30.x #/home/bcov/sc/random/xform_poss/xform_pos_ang10_0.35A_1.1d.x\n",
    "                                           # Which xform file do you want to use. Difference is how many degrees do you want to \n",
    "                                           #   deviate from the PatchDock outputs. Pick one from here:\n",
    "                                           #                 /home/bcov/sc/scaffold_comparison/data/xform_pos_ang*\n",
    "\n",
    "\n",
    "\n",
    "#-rif_dock:cluster_score_cut -5.0          # After HackPack, what results should be thrown out before applying -keep_top_clusters_frac\n",
    "#-rif_dock:keep_top_clusters_frac 1.0      # After applying the cluster_score_cut, what fraction of remaining seeding positions should survive?\n",
    "                                         \n",
    "#-rosetta_score_each_seeding_at_least 1    # When cutting down the results by rosetta_score_fraction, make sure at least this many from each \n",
    "                                           #   seeding position survive\n",
    "\n",
    "#-only_load_highest_resl                   # This will make rifdock use less ram. Highly recommended for the patchdock protocol.\n",
    "\n",
    "#-n_pdb_out_global 300                      # n_pdb_out controls how many per patchdock output. This is how many total\n",
    "\n",
    "##################### Advanced seeding position flags ##################################################\n",
    "\n",
    "#-rif_dock:seed_with_these_pdbs *.pdb      # List of scaffolds floating in space above the target that you would like to use instead.\n",
    "                                           #   of numeric seeding positions. The target shouldn't be present and the scaffold must match exactly\n",
    "                                           #   Use this instead of -seeding_pos\n",
    "#-rif_dock:seed_include_input true         # Include the input pdb as one of the pdbs for -seed_with_these_pdbs\n",
    "\n",
    "#-rif_dock:write_seed_to_output true       # Use this if you want to know which output came from which seeding position\n",
    "\n",
    "\n",
    "##################### Flags that affect how things are scored ##########################################\n",
    "\n",
    "#-use_rosetta_grid_energies true/false     # Your choice. If True, uses Frank's grid energies during Hackpack\n",
    "\n",
    "-hbond_weight 2.0                          # max score per hbond (Rosetta's max is 2.1)  # ^_^\n",
    "-upweight_multi_hbond 0.0                  # extra score factor for bidentate hbonds (BrianC recommends don't do this)\n",
    "-min_hb_quality_for_satisfaction -0.25     # If using require_satisfaction (or buried unsats). How good does a hydrogen bond need to be to \"count\"?\n",
    "                                           #   The scale is from -1.0 to 0 where -1.0 is a perfect hydrogen bond.\n",
    "-scaff_bb_hbond_weight 2.0                 # max score per hbond on the scaffold backbone  # ^_^\n",
    "\n",
    "-favorable_1body_multiplier 0.2            # Anything with a one-body energy less than favorable_1body_cutoff gets multiplied by this\n",
    "-favorable_1body_multiplier_cutoff 4       # Anything with a one-body energy less than this gets multiplied by favorable_1body_multiplier\n",
    "-favorable_2body_multiplier 5              # Anything with a two-body energy less than 0 gets multiplied by this\n",
    "\n",
    "-user_rotamer_bonus_constant 0             # Anything that makes a hydrogen-bond, is a hotspot, or is a \"requirement\" gets this bonus\n",
    "-user_rotamer_bonus_per_chi -2             # Anything that makes a hydrogen-bond, is a hotspot, or is a \"requirement\" gets this bonus * number of chis  # ^_^\n",
    "\n",
    "-rif_dock:upweight_iface 2.0               # During RifDock and HackPack. rifres-target interactions are multiplied by this number  # ^_^\n",
    "\n",
    "\n",
    "################ stuff related to picking designable and fixed positions #################\n",
    "\n",
    "#### if you DO NOT supply scaffold_res files, this will attempt to pick which residues on the scaffold\n",
    "#### can be mutated based on sasa, internal energy, and bb-sc hbonds\n",
    "-scaffold_res_use_best_guess true\n",
    "\n",
    "#### if scaffold_res is NOT used, this option will cause loop residues to be ignored\n",
    "#### scaffold_res overrides this\n",
    "-rif_dock::dont_use_scaffold_loops false\n",
    "\n",
    "#### these cause the non-designable scaffold residues to still contribute sterically\n",
    "#### and to the 1 body rotamer energies. use these flags if you have a fully-designed scaffold\n",
    "#-rif_dock:scaffold_to_ala false\n",
    "#-rif_dock:scaffold_to_ala_selonly true\n",
    "#-rif_dock:replace_all_with_ala_1bre false\n",
    "#### if you don't have a fully designed scaffold, treat non-designable positions as alanine\n",
    "-rif_dock:scaffold_to_ala true            # Brian thinks that converting the whole scaffold to alanine works better during rosetta min\n",
    "-rif_dock:scaffold_to_ala_selonly false\n",
    "-rif_dock:replace_all_with_ala_1bre true\n",
    "\n",
    "\n",
    "\n",
    "#################################### HackPack options #####################################\n",
    "-hack_pack false                            # Do you want to do HackPack? (Probably a good idea)\n",
    "-rif_dock:hack_pack_frac  1.0              # What fraction of your HSearch results (that passed global_score_cut) do you want to HackPack?\n",
    "\n",
    "\n",
    "############################# rosetta re-scoring / min stuff ###################################\n",
    "\n",
    "#-rif_dock:rosetta_score_cut -10.0                    # After RosettaScore, anything with a score worse than this gets thrown out\n",
    "\n",
    "#-rif_dock:rosetta_score_fraction 0                   # These two flags greaty affect runtime!!!!!\n",
    "#-rif_dock:rosetta_min_fraction 0                     # Choose wisely, higher fractions give more, better output at the cost of runtime\n",
    "\n",
    "#-rif_dock:rosetta_min_at_least 30                    # Make sure at least this many survive the rosetta_min_fraction\n",
    "#-rif_dock:rosetta_min_at_most 300                    # Make sure no more than this get minned\n",
    "#-rif_dock:rosetta_score_at_most  3000              # Make sure that no more than this many go to rosetta score\n",
    "\n",
    "#-rif_dock:replace_orig_scaffold_res false            # If you converted to poly ALA with scaffold_to_ala, this puts the original residues\n",
    "                                                     #   back before you do rosetta min.\n",
    "#-rif_dock:override_rosetta_pose true                 # Brian highly recommends this flag. This prevents the minimized pose from being output\n",
    "#-rif_dock:rosetta_min_scaffoldbb false               # Set BB movemap of scaffold to True\n",
    "#-rif_dock:rosetta_min_targetbb   false               # Set BB movemap of target to true\n",
    "#-rif_dock:rosetta_hard_min false                     # Minimize with the \"hard\" score function (alternative is \"soft\" score function)\n",
    "\n",
    "#-rif_dock:rosetta_score_rifres_rifres_weight   0.6   # When evaluating the final score, multiply rifres-rifres interactions by this\n",
    "#-rif_dock:rosetta_score_rifres_scaffold_weight 0.4   # When evaluating the final score, multiply rifres-scaffold interactions by this\n",
    "                                                     #  These two flags only get used if the interaction is good. Bad interactions are\n",
    "                                                     #    full weight.\n",
    "\n",
    "\n",
    "######################### Special flags that do special things #################################\n",
    "\n",
    "#-hack_pack_during_hsearch False           # Run HackPack during the HSearch. Doesn't usually help, but who knows.\n",
    "-require_satisfaction {n_satisfied}        # Require at least this many hbonds, hotspots, or \"requirements\"\n",
    "-require_n_rifres  3                      # Require at least this may rifres (not perfect)\n",
    "\n",
    "#-requirements 0,1,2,8                     # Require that certain satisfactions be required in all outputs\n",
    "                                           # If one runs a standard RifDock, these will be individual hydrogen bonds to specific atoms\n",
    "                                           # If one uses hotspots during rifgen, these will correspond the the hotspots groups\n",
    "                                           #   However, due to some conflicts, these will also overlap with hydrogen bonds to specific atoms\n",
    "                                           # Finally, if one uses a -tuning_file, these will correspond to the \"requirements\" set there\n",
    "\n",
    "\n",
    "######################### Hydrophobic Filters ##################################################\n",
    "# These are rather experimental flags. You'll have to play with the values.\n",
    "# Hydrophobic ddG is roughly fa_atr + fa_rep + fa_sol for hydrophobic residues.\n",
    "\n",
    "#-hydrophobic_ddg_cut -12                  # All outputs must have hydrophobic ddG at least this value\n",
    "#-require_hydrophobic_residue_contacts 5   # All outputs must make contact with at least this many target hydrophobics\n",
    "#-hydrophobic_ddg_weight 3 # Overweight hydrophobic interactions so that the HackPack understands they are important, for T hydrophobic interactions\n",
    "#-one_hydrophobic_better_than -2           # Require that at least one rifres have a hydrophobic ddG better than this\n",
    "#-two_hydrophobics_better_than -2          # Require that at least two rifres have a hydrophobic ddG better than this\n",
    "#-three_hydrophobics_better_than -1        # Require that at least three rifres have a hydrophobic ddG better than this\n",
    "\n",
    "# This next flag affects the *_hydrophobics_better_than flags. A rifres can only be counted towards those flags if it passes this one.\n",
    "#-hydrophobic_ddg_per_atom_cut -0.3        # Require that hydrophobics for the *_hydrophobics_better_than flags have at least this much \n",
    "                                           #  ddG per side-chain heavy atoms.\n",
    "\n",
    "#-hydrophobic_target_res 1,15,29,35        # If you want your selection of hydrophobic residues to include only a subset of the ones\n",
    "                                           #  you selected for the target_res, place that selection here with commas.\n",
    "\n",
    "######################### options to favor existing scaffold residues ##########################\n",
    "-add_native_scaffold_rots_when_packing 0 # 1\n",
    "-bonus_to_native_scaffold_res          0 # -0.5\n",
    "\n",
    "\n",
    "################################# Twobody table caching ####################################\n",
    "\n",
    "# RifDock caches the twobody tables so that you can save time later. If you use the same scaffolds\n",
    "#  in the same directory mulitple times. This is a good idea. Otherwise, these take up quite\n",
    "#  a bit of space and it might be smart to turn the caching off.\n",
    "\n",
    "-rif_dock:cache_scaffold_data true\n",
    "-rif_dock:data_cache_dir  ./rifdock_v4_scaffdata_025_0_atr1\n",
    "\n",
    "\n",
    "################################ Rosetta Database ##########################################\n",
    "\n",
    "-database /software/rifdock/latest/database\n",
    "\n",
    "############################################################################################\n",
    "############################################################################################\n",
    "############################ END OF USER ADJUSTABLE SETTINGS ###############################\n",
    "############################################################################################\n",
    "############################################################################################\n",
    "\n",
    "\n",
    "#### to use -beta, ask will if you don't want to use -beta\n",
    "-beta\n",
    "-score:weights beta_soft\n",
    "-add_orbitals false\n",
    "\n",
    "#### HackPack options you probably shouldn't change\n",
    "-rif_dock:pack_n_iters    2\n",
    "-rif_dock:pack_iter_mult  2.0\n",
    "-rif_dock:packing_use_rif_rotamers        true\n",
    "-rif_dock:extra_rotamers                  false\n",
    "-rif_dock:always_available_rotamers_level 0\n",
    "\n",
    "\n",
    "#### details for how twobody rotamer energies are computed and stored, don't change\n",
    "-rif_dock:rotrf_resl   0.25\n",
    "-rif_dock:rotrf_spread 0.0\n",
    "-rif_dock:rotrf_scale_atr 1.0\n",
    "-rif_dock:rotrf_cache_dir /net/scratch/{user}/rifdock_cache         # This folder only exists to save time. \n",
    "                                                          #   Set it somewhere you can write if the default doesn't work\n",
    "\n",
    "### Brian doesn't know what these flags do\n",
    "-rif_dock::rf_resl 0.5\n",
    "-rif_dock::rf_oversample 2\n",
    "-rif_dock:use_scaffold_bounding_grids 0\n",
    "-rif_dock:target_rf_oversample 2\n",
    "\n",
    " # disulfides seem to cause problems... ignoring them isn't really an issue unless\n",
    " # you do bbmin where there should be disulfides\n",
    "-detect_disulf 0\n",
    "\n",
    "\n",
    "-mute core.scoring.ScoreFunctionFactory\n",
    "-mute core.io.pose_from_sfr.PoseFromSFRBuilder\n",
    "\n",
    "-outputsilent\n",
    "\"\"\"\n",
    "#^^^ END string\n",
    "\n",
    "    # for this function, we need to return the output \n",
    "    return rifdock_flag_file\n",
    "print('Created function to set rifdock command flags')"
   ]
  },
  {
   "cell_type": "code",
   "execution_count": 39,
   "metadata": {},
   "outputs": [
    {
     "name": "stdout",
     "output_type": "stream",
     "text": [
      "Set rifdock command flags\n"
     ]
    }
   ],
   "source": [
    "### RIFD-01\n",
    "\n",
    "# Make a rifdock flag for each target structure, using the above function\n",
    "\n",
    "rifgen_logs = []\n",
    "for seq in seqs:\n",
    "    rifgen_log = f'{rifdock_path}/{seq}_rifgen.log'\n",
    "    rifgen_logs.append(rifgen_log)\n",
    "    os.makedirs(f'/net/scratch/{user}/rifdock_cache_{ID}_{seq}/',exist_ok=True)\n",
    "    rifdock_flag_file = gen_rifdock_flags(rifgen_log, seq, rifdock_path)\n",
    "    with open(f'{rifdock_path}/{seq}_rifdock.flag', 'w') as f:\n",
    "            f.write(rifdock_flag_file)\n",
    "print('Set rifdock command flags')"
   ]
  },
  {
   "cell_type": "code",
   "execution_count": 40,
   "metadata": {},
   "outputs": [
    {
     "name": "stdout",
     "output_type": "stream",
     "text": [
      "RIF size is 4G\n"
     ]
    }
   ],
   "source": [
    "### RIFD-02\n",
    "\n",
    "### Get the RIF size (the size of the hash table generated by rifgen. You'll need at least this much memory to run rifdock)\n",
    "with open(rifgen_logs[0], 'r') as f_in:\n",
    "    for line in f_in:\n",
    "        if 'RIF size:' in line:\n",
    "            rif_size = int(line[10:13])\n",
    "            break\n",
    "print(f'RIF size is {rif_size}G')"
   ]
  },
  {
   "cell_type": "code",
   "execution_count": 41,
   "metadata": {},
   "outputs": [
    {
     "name": "stdout",
     "output_type": "stream",
     "text": [
      "ssh digs\n",
      "qlogin -c 15 --mem=50g -p cpu -q interactive\n",
      "cd /net/scratch/cjg263/de_novo_dna/HBVa_HSB-2/rifdock\n",
      "head -n 1 rifdock_commands/commands.list\n"
     ]
    }
   ],
   "source": [
    "### RIFD-03\n",
    "\n",
    "# Set up rifdock commands with the following. Then test a job to see how many outputs you get. \n",
    "# Take a look at the docks and make sure they look good to you.\n",
    "\n",
    "#RIFDOCK = '/home/bcov/rifdock/scheme/build/apps/rosetta/rif_dock_test'\n",
    "RIFDOCK = '/software/rifdock/latest/rif_dock_test'\n",
    "SCAFFOLDS = f'{rifdock_path}/scaffolds.list'\n",
    "\n",
    "os.makedirs(f'{rifdock_path}/rifdock_commands/splits', exist_ok=True)\n",
    "os.chdir(f'{rifdock_path}/rifdock_commands/splits')                     \n",
    "# os.chdir changes the current working directory for the Jupyter notebook\n",
    "\n",
    "# the bash `split` command will split the scaffolds list file into a bunch of files with 120 lines (specified by the -l flag below)\n",
    "split_cmd = f'split -l 120 {SCAFFOLDS}'\n",
    "p = subprocess.Popen(split_cmd.split())\n",
    "p.communicate()\n",
    "\n",
    "splits = glob.glob(f'{rifdock_path}/rifdock_commands/splits/x*')\n",
    "with open(f'{rifdock_path}/rifdock_commands/commands.list','w') as f:\n",
    "    for seq in seqs:\n",
    "        rifdock_flags = f'{rifdock_path}/{seq}_rifdock.flag'\n",
    "        os.makedirs(f'{rifdock_path}/rifdock_logs_{seq}', exist_ok=True)\n",
    "\n",
    "        for split in sorted(splits):\n",
    "            split_name = os.path.basename(split)\n",
    "\n",
    "            cmd  = f' cd {rifdock_path} ;'\n",
    "            cmd += f' {RIFDOCK} @{rifdock_flags} -scaffolds $(cat {split})'\n",
    "            cmd += f' > rifdock_logs_{seq}/{split_name}.log' \n",
    "            cmd +=  ' 2>&1'\n",
    "            \n",
    "            f.write(cmd+'\\n')\n",
    "                    \n",
    "# Print test command instructions\n",
    "print(f'ssh digs')\n",
    "print(f'qlogin -c 15 --mem={rif_size+46}g -p cpu -q interactive')\n",
    "print(f'cd {rifdock_path}')\n",
    "print(f'head -n 1 rifdock_commands/commands.list')\n",
    "\n",
    "# RUN THE BELOW IN A TERMINAL\n",
    "# THEN, copy the output of the final step into the command line again to run it. Let it run for a few minutes, then cancel the job with CTRL-C.\n",
    "# THEN, look at the actual outputs. cd into the output directory (ends in rifdock_output), then pick a silent file and use silentextract to get the pdbs out of it. Look at the pdbs in pymol"
   ]
  },
  {
   "cell_type": "code",
   "execution_count": 10,
   "metadata": {},
   "outputs": [],
   "source": [
    "### RIFD-04\n",
    "\n",
    "# If you wish, go back and adjust the parameters of rifdock.flag and rerun the test command\n",
    "# When you are satisfied with the number and quality of docks, continue to submit all the jobs"
   ]
  },
  {
   "cell_type": "code",
   "execution_count": null,
   "metadata": {},
   "outputs": [],
   "source": []
  }
 ],
 "metadata": {
  "kernelspec": {
   "display_name": "PyRosetta",
   "language": "python",
   "name": "pyrosetta"
  },
  "language_info": {
   "codemirror_mode": {
    "name": "ipython",
    "version": 3
   },
   "file_extension": ".py",
   "mimetype": "text/x-python",
   "name": "python",
   "nbconvert_exporter": "python",
   "pygments_lexer": "ipython3",
   "version": "3.10.12"
  }
 },
 "nbformat": 4,
 "nbformat_minor": 4
}
